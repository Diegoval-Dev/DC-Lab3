{
 "cells": [
  {
   "cell_type": "code",
   "execution_count": null,
   "id": "6a9620c5",
   "metadata": {},
   "outputs": [
    {
     "name": "stdout",
     "output_type": "stream",
     "text": [
      "Note: you may need to restart the kernel to use updated packages.\n"
     ]
    },
    {
     "name": "stderr",
     "output_type": "stream",
     "text": [
      "WARNING: Skipping tensorflow as it is not installed.\n"
     ]
    },
    {
     "name": "stdout",
     "output_type": "stream",
     "text": [
      "Note: you may need to restart the kernel to use updated packages.\n"
     ]
    },
    {
     "name": "stderr",
     "output_type": "stream",
     "text": [
      "ERROR: Could not find a version that satisfies the requirement tensorflow-directml (from versions: none)\n",
      "ERROR: No matching distribution found for tensorflow-directml\n"
     ]
    }
   ],
   "source": [
    "#conda activate tf-gpu"
   ]
  },
  {
   "cell_type": "code",
   "execution_count": 2,
   "id": "8c90d10a",
   "metadata": {},
   "outputs": [
    {
     "name": "stdout",
     "output_type": "stream",
     "text": [
      "TF version: 2.19.0\n",
      "GPUs visibles: []\n",
      "Runs on CPU: [PhysicalDevice(name='/physical_device:CPU:0', device_type='CPU')]\n"
     ]
    }
   ],
   "source": [
    "import tensorflow as tf\n",
    "\n",
    "print(\"TF version:\", tf.__version__)\n",
    "print(\"GPUs visibles:\", tf.config.list_physical_devices(\"GPU\"))  # lista vacía\n",
    "print(\"Runs on CPU:\", tf.config.list_physical_devices(\"CPU\"))\n",
    "\n"
   ]
  },
  {
   "cell_type": "code",
   "execution_count": 5,
   "id": "251909e8",
   "metadata": {},
   "outputs": [],
   "source": [
    "import os\n",
    "# Antes de importar TF\n",
    "os.environ[\"OMP_NUM_THREADS\"] = \"8\"      # ajusta a tus cores\n",
    "os.environ[\"TF_NUM_INTRAOP_THREADS\"] = \"8\"\n",
    "os.environ[\"TF_NUM_INTEROP_THREADS\"] = \"2\"\n",
    "\n",
    "import tensorflow as tf\n",
    "from tensorflow.keras import mixed_precision\n",
    "mixed_precision.set_global_policy(\"mixed_float16\")\n"
   ]
  }
 ],
 "metadata": {
  "kernelspec": {
   "display_name": "Python 3",
   "language": "python",
   "name": "python3"
  },
  "language_info": {
   "codemirror_mode": {
    "name": "ipython",
    "version": 3
   },
   "file_extension": ".py",
   "mimetype": "text/x-python",
   "name": "python",
   "nbconvert_exporter": "python",
   "pygments_lexer": "ipython3",
   "version": "3.12.4"
  }
 },
 "nbformat": 4,
 "nbformat_minor": 5
}
