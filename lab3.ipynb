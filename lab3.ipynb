{
 "cells": [
  {
   "cell_type": "code",
   "execution_count": 1,
   "id": "8c90d10a",
   "metadata": {},
   "outputs": [
    {
     "name": "stdout",
     "output_type": "stream",
     "text": [
      "TensorFlow version: 2.10.0\n",
      "¿Compilado con soporte CUDA?: True\n",
      "GPUs visibles por TensorFlow: []\n",
      "Versión CUDA en TF build: 64_112\n",
      "Versión cuDNN en TF build: 64_8\n",
      "No se detectó GPU, la operación se hará en CPU.\n"
     ]
    }
   ],
   "source": [
    "# 1) Información de TensorFlow y GPU disponibles\n",
    "import tensorflow as tf\n",
    "\n",
    "print(\"TensorFlow version:\", tf.__version__)\n",
    "print(\"¿Compilado con soporte CUDA?:\", tf.test.is_built_with_cuda())\n",
    "print(\"GPUs visibles por TensorFlow:\", tf.config.list_physical_devices('GPU'))\n",
    "\n",
    "# 2) Detalles de la versión de CUDA y cuDNN usadas por TensorFlow\n",
    "build_info = tf.sysconfig.get_build_info()\n",
    "print(\"Versión CUDA en TF build:\", build_info.get('cuda_version', 'desconocida'))\n",
    "print(\"Versión cuDNN en TF build:\", build_info.get('cudnn_version', 'desconocida'))\n",
    "\n",
    "# 3) Prueba rápida: crea un tensor y ponlo en la GPU (si hay)\n",
    "if tf.config.list_physical_devices('GPU'):\n",
    "    with tf.device('/GPU:0'):\n",
    "        a = tf.random.uniform((1000, 1000))\n",
    "        b = tf.matmul(a, a)\n",
    "    print(\"Operación matmul en GPU completada, tensor shape:\", b.shape)\n",
    "else:\n",
    "    print(\"No se detectó GPU, la operación se hará en CPU.\")\n",
    "\n",
    "\n"
   ]
  },
  {
   "cell_type": "code",
   "execution_count": 4,
   "id": "036897ee",
   "metadata": {},
   "outputs": [
    {
     "name": "stdout",
     "output_type": "stream",
     "text": [
      "64 bits\n"
     ]
    }
   ],
   "source": [
    "import struct\n",
    "print(struct.calcsize(\"P\") * 8, \"bits\")"
   ]
  }
 ],
 "metadata": {
  "kernelspec": {
   "display_name": "venv-py310",
   "language": "python",
   "name": "python3"
  },
  "language_info": {
   "codemirror_mode": {
    "name": "ipython",
    "version": 3
   },
   "file_extension": ".py",
   "mimetype": "text/x-python",
   "name": "python",
   "nbconvert_exporter": "python",
   "pygments_lexer": "ipython3",
   "version": "3.10.7"
  }
 },
 "nbformat": 4,
 "nbformat_minor": 5
}
